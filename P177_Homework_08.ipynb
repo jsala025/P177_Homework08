{
 "cells": [
  {
   "cell_type": "markdown",
   "metadata": {},
   "source": [
    "# Homework 8: Magnetization, Energy in the Ising Model\n",
    "\n",
    "Physics 177, Spring 2017 (Prof. Tanedo)  \n",
    "Due: Friday, June 16    \n",
    "\n",
    "*Joshua Salazar*"
   ]
  },
  {
   "cell_type": "markdown",
   "metadata": {},
   "source": [
    "# Problem 0\n",
    "\n",
    "Please be sure to fill out:\n",
    "1. The course survey (e-mailed directly to you; e-mail Prof. Tanedo if you have not received this!)\n",
    "2. iEval course evaluation (http://ieval.ucr.edu)\n",
    "3. Sign up for a \"final interview\": https://doodle.com/poll/xyb7dgcupq9gwaqm"
   ]
  },
  {
   "cell_type": "markdown",
   "metadata": {},
   "source": [
    "# Problem 1"
   ]
  },
  {
   "cell_type": "markdown",
   "metadata": {
    "collapsed": true
   },
   "source": [
    "Code the Ising model to study the phase transition at $T_c\\approx 2.27$ (in units where $J = k_B = 1$). Use the Metropolis algorithm for Markov Chain Monte Carlo, as we set up in Lecture 18: https://github.com/Physics177-2017/Lec18-Ising-Model/blob/master/Lec18-IsingModel.ipynb\n",
    "\n",
    "**Make the following plots:**\n",
    "1. Magnetization as a function of temperature\n",
    "2. Energy as a function of temperature\n",
    "\n",
    "You may define magnetization as the total spin of the system (sum of the spins of each node). You may define the energy as the sum of $\\Delta E_i$ for each spin $i$. Recall that \n",
    "\n",
    "$$\\Delta E_i = -\\sum_{j} s_is_j$$\n",
    "\n",
    "(Note: actually, you should define $E = \\sum_i \\Delta E_i/4$, but we don't care about the overall pre-factors, we just want to see the qualitative shapes of the plots.)\n",
    "\n",
    "**Guidelines**\n",
    "You should be able to get reasonable results for:\n",
    "* A $20\\times 20$ array.\n",
    "* Sampling 1000 temperature points between $T=1$ and $T=4$\n",
    "* Allowing 2000 Monte Carlo steps to draw a sample.\n",
    "\n",
    "*Pro-tip:* One way to improve your calculations is to let your Monte Carlo \"equilibrate\" before recording data. In other words, your Markov Chain algorithm should be:\n",
    "\n",
    "1. Pick a random configuration\n",
    "2. Run for 2000 steps (without recording data)\n",
    "3. Perform your Markov Chain algorithm as usual, using the configuration at the end of step 2 as your initial configuration.\n",
    "\n",
    "\n",
    "Code this up on your own, you may use the code from Lecture 18 as a starting point. \n",
    "\n",
    "The *answers* are available in a notebook written by Rajesh Singh:\n",
    "http://rajeshrinet.github.io/blog/2014/ising-model/\n",
    "... you may use that notebook (in particular, the plots) as a guideline for what your code should produce. "
   ]
  },
  {
   "cell_type": "code",
   "execution_count": 1,
   "metadata": {
    "collapsed": true
   },
   "outputs": [],
   "source": [
    "import numpy as np\n",
    "import matplotlib.pyplot as plt\n",
    "from random import * # clunky, but allows random() and randint(a,b)\n",
    "\n",
    "N = 3\n",
    "N_trials = 100"
   ]
  },
  {
   "cell_type": "code",
   "execution_count": 2,
   "metadata": {
    "collapsed": true
   },
   "outputs": [],
   "source": [
    "# Initialize the grid\n",
    "def grid_initialize(array_length):\n",
    "    some_grid = np.zeros((array_length, array_length))\n",
    "\n",
    "    for i in range(array_length):\n",
    "        for j in range(array_length):\n",
    "            # assign a random +1 or -1 sping\n",
    "            some_grid[i][j] = 2*randint(0,1) - 1 \n",
    "    return some_grid\n",
    "\n",
    "grid = grid_initialize(N)"
   ]
  },
  {
   "cell_type": "code",
   "execution_count": 3,
   "metadata": {
    "collapsed": true
   },
   "outputs": [],
   "source": [
    "# DEFINE QUIET VERSION\n",
    "def new_spin(some_grid, beta, i, j):\n",
    "    \"\"\"\n",
    "    Takes the grid and the temperature,\n",
    "    runs Metropolis algorithm to give the\n",
    "    updated value of the (i,j) element.\n",
    "    \"\"\"\n",
    "    spin = some_grid[i,j]\n",
    "    spin_flip = -spin\n",
    "\n",
    "# ##  TESTING\n",
    "#     print(i)\n",
    "#     print(j)\n",
    "#     print(\"spin is:\") \n",
    "#     print(some_grid[i,j])\n",
    "\n",
    "    \n",
    "#   Periodic boundary conditions\n",
    "    net_neighbor_spin = some_grid[(i+1)%N,j] + some_grid[(i-1)%N,j] + some_grid[i,(j+1)%N] + some_grid[i,(j-1)%N]\n",
    "        \n",
    "    deltaE = -spin_flip*net_neighbor_spin - (-spin*net_neighbor_spin)\n",
    "# ##  TESTING\n",
    "#     print(\"deltaE is\")\n",
    "#     print(deltaE)\n",
    "        \n",
    "    if deltaE < 0:\n",
    "#         print(\"lower E, flipped\")\n",
    "        return -spin\n",
    "    \n",
    "    else:\n",
    "        if random() < np.exp(-beta*deltaE):\n",
    "#             print(\"lucky roll, flipped\")\n",
    "            return -spin\n",
    "        else:\n",
    "#             print(\"no flip\")\n",
    "            return spin"
   ]
  },
  {
   "cell_type": "code",
   "execution_count": 4,
   "metadata": {
    "collapsed": false
   },
   "outputs": [],
   "source": [
    "def grid_update(some_grid, arraylength, beta):\n",
    "    i = randint(0,arraylength-1)\n",
    "    j = randint(0,arraylength-1)\n",
    "#     new_grid = some_grid\n",
    "#     new_grid[i,j] = new_spin(some_grid, beta, i, j)\n",
    "#     return new_grid\n",
    "    some_grid[i,j] = new_spin(some_grid, beta, i, j)\n",
    "\n",
    "#print(grid)\n",
    "#grid_update(grid,1)\n",
    "#print(grid)"
   ]
  },
  {
   "cell_type": "code",
   "execution_count": 5,
   "metadata": {
    "collapsed": false
   },
   "outputs": [],
   "source": [
    "def MCMKC_record(some_grid, num_trials, arraylength, beta ):\n",
    "    \"\"\"Generates a list of configurations (grids) for the the Monte Carlo MK chain Metropolis algorithm.\"\"\"\n",
    "    some_record = []\n",
    "    for a in range(num_trials):\n",
    "        some_record.append(np.array(some_grid))\n",
    "        # Note: the np.array(...) is important,\n",
    "        #  this assigns a value rather than a reference.\n",
    "        #  If you just did record.append(grid), you \n",
    "        #  append a reference to the current value of \"grid\"\n",
    "        #  ... this gets updated, and so every element of record gets updated\n",
    "        grid_update(some_grid, arraylength, beta)\n",
    "    \n",
    "    return some_record\n",
    "    \n",
    "#for a in range(3):\n",
    "    #plt.imshow(record[a])\n",
    "    #plt.show()"
   ]
  },
  {
   "cell_type": "code",
   "execution_count": 6,
   "metadata": {
    "collapsed": true
   },
   "outputs": [],
   "source": [
    "# The following definitions are based of code from Rajesh Singh link\n",
    "def calcEnergy(some_grid):\n",
    "    '''Energy of a given configuration'''\n",
    "    energy = 0\n",
    "    for i in range(len(some_grid)):\n",
    "        for j in range(len(some_grid)):\n",
    "            S = some_grid[i,j]\n",
    "            nb = some_grid[(i+1)%N, j] + some_grid[i,(j+1)%N] + some_grid[(i-1)%N, j] + some_grid[i,(j-1)%N]\n",
    "            energy += -nb*S\n",
    "    return energy/4.\n",
    "\n",
    "def calcMag(some_grid):\n",
    "    '''Magnetization of a given configuration'''\n",
    "    mag = np.sum(some_grid)\n",
    "    return mag"
   ]
  },
  {
   "cell_type": "code",
   "execution_count": 7,
   "metadata": {
    "collapsed": true
   },
   "outputs": [],
   "source": [
    "# The following code is based on code from Rajesh Singh link\n",
    "def MCMKC_energy_mag(num_trials, arraylength, equilibrium_steps, beta):\n",
    "    \"\"\"given the list generated by the MCMKC_record function for a specific beta, this function\n",
    "    generates a list of average energies and magnitizations for MCMKC_record ensembles corresponding to a list of beta values\"\"\"\n",
    "    \n",
    "    Energy = np.zeros(len(beta))\n",
    "    Mag = np.zeros(len(beta))\n",
    "    \n",
    "    for m in range(len(beta)):\n",
    "        energy = 0.0\n",
    "        mag = 0.0\n",
    "        grid_record = []\n",
    "        some_grid = grid_initialize(arraylength)\n",
    "\n",
    "        for i in range(equilibrium_steps):\n",
    "            grid_update(some_grid, arraylength, beta[m])\n",
    "        \n",
    "        grid_record = MCMKC_record(some_grid, num_trials, arraylength, beta[m])\n",
    "        \n",
    "        for a in range(len(grid_record)):\n",
    "            energy = energy + calcEnergy(grid_record[a])\n",
    "            mag = mag + calcMag(grid_record[a])\n",
    "        \n",
    "        Energy[m] = energy / (len(grid_record)*(arraylength*arraylength)) \n",
    "        Mag[m] = mag / (len(grid_record)*(arraylength*arraylength))\n",
    "        \n",
    "    return Energy, Mag        "
   ]
  },
  {
   "cell_type": "code",
   "execution_count": 8,
   "metadata": {
    "collapsed": false
   },
   "outputs": [],
   "source": [
    "seed(10)\n",
    "N = 20\n",
    "N_trials = 2000\n",
    "equilibrium_steps = 2000\n",
    "temperature = np.linspace(1,4,1000)\n",
    "beta = 1.0 / temperature\n",
    "\n",
    "E, M = MCMKC_energy_mag(N_trials, N, equilibrium_steps, beta)"
   ]
  },
  {
   "cell_type": "code",
   "execution_count": 9,
   "metadata": {
    "collapsed": false,
    "scrolled": false
   },
   "outputs": [
    {
     "data": {
      "image/png": "[encoded data removed]",
      "text/plain": [
       "<matplotlib.figure.Figure at 0x212b1ed7b38>"
      ]
     },
     "metadata": {},
     "output_type": "display_data"
    }
   ],
   "source": [
    "f = plt.figure()\n",
    "\n",
    "sp = f.add_subplot(2,2,1)\n",
    "plt.plot(temperature, E, color = 'b', label = 'Energy')\n",
    "plt.xlabel('Temperature')\n",
    "plt.ylabel('Energy')\n",
    "\n",
    "sp = f.add_subplot(2,2,2)\n",
    "plt.plot(temperature, abs(M), color = 'r', label = 'Magnetization')\n",
    "plt.xlabel('Temperature')\n",
    "plt.ylabel('Magnetization')\n",
    "\n",
    "plt.show()"
   ]
  }
 ],
 "metadata": {
  "kernelspec": {
   "display_name": "Python 3",
   "language": "python",
   "name": "python3"
  },
  "language_info": {
   "codemirror_mode": {
    "name": "ipython",
    "version": 3
   },
   "file_extension": ".py",
   "mimetype": "text/x-python",
   "name": "python",
   "nbconvert_exporter": "python",
   "pygments_lexer": "ipython3",
   "version": "3.6.0"
  }
 },
 "nbformat": 4,
 "nbformat_minor": 2
}
